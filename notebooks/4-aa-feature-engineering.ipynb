{
 "cells": [
  {
   "cell_type": "code",
   "execution_count": 1,
   "metadata": {
    "collapsed": false
   },
   "outputs": [
    {
     "name": "stderr",
     "output_type": "stream",
     "text": [
      "/usr/local/lib/python2.7/site-packages/matplotlib/font_manager.py:273: UserWarning: Matplotlib is building the font cache using fc-list. This may take a moment.\n",
      "  warnings.warn('Matplotlib is building the font cache using fc-list. This may take a moment.')\n",
      "/usr/local/lib/python2.7/site-packages/matplotlib/__init__.py:878: UserWarning: axes.color_cycle is deprecated and replaced with axes.prop_cycle; please use the latter.\n",
      "  warnings.warn(self.msg_depr % (key, alt_key))\n"
     ]
    }
   ],
   "source": [
    "import os\n",
    "import sklearn\n",
    "import sqlite3\n",
    "import matplotlib\n",
    "\n",
    "import numpy as np\n",
    "import pandas as pd\n",
    "import enchant as en\n",
    "import seaborn as sns\n",
    "import statsmodels.api as sm\n",
    "import matplotlib.pyplot as plt\n",
    "\n",
    "from sklearn.preprocessing import LabelEncoder, OneHotEncoder\n",
    "\n",
    "%matplotlib inline\n",
    "plt.style.use('ggplot')\n",
    "plt.rcParams['figure.figsize'] = (16.0, 6.0)\n",
    "plt.rcParams['legend.markerscale'] = 3\n",
    "matplotlib.rcParams['font.size'] = 16.0"
   ]
  },
  {
   "cell_type": "code",
   "execution_count": 2,
   "metadata": {
    "collapsed": false
   },
   "outputs": [],
   "source": [
    "spell_check = en.Dict('en_US')"
   ]
  },
  {
   "cell_type": "code",
   "execution_count": 3,
   "metadata": {
    "collapsed": false
   },
   "outputs": [
    {
     "data": {
      "text/html": [
       "<div>\n",
       "<table border=\"1\" class=\"dataframe\">\n",
       "  <thead>\n",
       "    <tr style=\"text-align: right;\">\n",
       "      <th></th>\n",
       "      <th>id</th>\n",
       "      <th>member_id</th>\n",
       "      <th>loan_amnt</th>\n",
       "      <th>funded_amnt</th>\n",
       "      <th>funded_amnt_inv</th>\n",
       "      <th>term</th>\n",
       "      <th>int_rate</th>\n",
       "      <th>installment</th>\n",
       "      <th>grade</th>\n",
       "      <th>sub_grade</th>\n",
       "      <th>...</th>\n",
       "      <th>total_bal_il</th>\n",
       "      <th>il_util</th>\n",
       "      <th>open_rv_12m</th>\n",
       "      <th>open_rv_24m</th>\n",
       "      <th>max_bal_bc</th>\n",
       "      <th>all_util</th>\n",
       "      <th>total_rev_hi_lim</th>\n",
       "      <th>inq_fi</th>\n",
       "      <th>total_cu_tl</th>\n",
       "      <th>inq_last_12m</th>\n",
       "    </tr>\n",
       "  </thead>\n",
       "  <tbody>\n",
       "    <tr>\n",
       "      <th>0</th>\n",
       "      <td>1077501</td>\n",
       "      <td>1296599</td>\n",
       "      <td>5000.0</td>\n",
       "      <td>5000.0</td>\n",
       "      <td>4975.0</td>\n",
       "      <td>36 months</td>\n",
       "      <td>10.65</td>\n",
       "      <td>162.87</td>\n",
       "      <td>B</td>\n",
       "      <td>B2</td>\n",
       "      <td>...</td>\n",
       "      <td>NaN</td>\n",
       "      <td>NaN</td>\n",
       "      <td>NaN</td>\n",
       "      <td>NaN</td>\n",
       "      <td>NaN</td>\n",
       "      <td>NaN</td>\n",
       "      <td>NaN</td>\n",
       "      <td>NaN</td>\n",
       "      <td>NaN</td>\n",
       "      <td>NaN</td>\n",
       "    </tr>\n",
       "    <tr>\n",
       "      <th>1</th>\n",
       "      <td>1077430</td>\n",
       "      <td>1314167</td>\n",
       "      <td>2500.0</td>\n",
       "      <td>2500.0</td>\n",
       "      <td>2500.0</td>\n",
       "      <td>60 months</td>\n",
       "      <td>15.27</td>\n",
       "      <td>59.83</td>\n",
       "      <td>C</td>\n",
       "      <td>C4</td>\n",
       "      <td>...</td>\n",
       "      <td>NaN</td>\n",
       "      <td>NaN</td>\n",
       "      <td>NaN</td>\n",
       "      <td>NaN</td>\n",
       "      <td>NaN</td>\n",
       "      <td>NaN</td>\n",
       "      <td>NaN</td>\n",
       "      <td>NaN</td>\n",
       "      <td>NaN</td>\n",
       "      <td>NaN</td>\n",
       "    </tr>\n",
       "    <tr>\n",
       "      <th>2</th>\n",
       "      <td>1077175</td>\n",
       "      <td>1313524</td>\n",
       "      <td>2400.0</td>\n",
       "      <td>2400.0</td>\n",
       "      <td>2400.0</td>\n",
       "      <td>36 months</td>\n",
       "      <td>15.96</td>\n",
       "      <td>84.33</td>\n",
       "      <td>C</td>\n",
       "      <td>C5</td>\n",
       "      <td>...</td>\n",
       "      <td>NaN</td>\n",
       "      <td>NaN</td>\n",
       "      <td>NaN</td>\n",
       "      <td>NaN</td>\n",
       "      <td>NaN</td>\n",
       "      <td>NaN</td>\n",
       "      <td>NaN</td>\n",
       "      <td>NaN</td>\n",
       "      <td>NaN</td>\n",
       "      <td>NaN</td>\n",
       "    </tr>\n",
       "    <tr>\n",
       "      <th>3</th>\n",
       "      <td>1076863</td>\n",
       "      <td>1277178</td>\n",
       "      <td>10000.0</td>\n",
       "      <td>10000.0</td>\n",
       "      <td>10000.0</td>\n",
       "      <td>36 months</td>\n",
       "      <td>13.49</td>\n",
       "      <td>339.31</td>\n",
       "      <td>C</td>\n",
       "      <td>C1</td>\n",
       "      <td>...</td>\n",
       "      <td>NaN</td>\n",
       "      <td>NaN</td>\n",
       "      <td>NaN</td>\n",
       "      <td>NaN</td>\n",
       "      <td>NaN</td>\n",
       "      <td>NaN</td>\n",
       "      <td>NaN</td>\n",
       "      <td>NaN</td>\n",
       "      <td>NaN</td>\n",
       "      <td>NaN</td>\n",
       "    </tr>\n",
       "    <tr>\n",
       "      <th>4</th>\n",
       "      <td>1075358</td>\n",
       "      <td>1311748</td>\n",
       "      <td>3000.0</td>\n",
       "      <td>3000.0</td>\n",
       "      <td>3000.0</td>\n",
       "      <td>60 months</td>\n",
       "      <td>12.69</td>\n",
       "      <td>67.79</td>\n",
       "      <td>B</td>\n",
       "      <td>B5</td>\n",
       "      <td>...</td>\n",
       "      <td>NaN</td>\n",
       "      <td>NaN</td>\n",
       "      <td>NaN</td>\n",
       "      <td>NaN</td>\n",
       "      <td>NaN</td>\n",
       "      <td>NaN</td>\n",
       "      <td>NaN</td>\n",
       "      <td>NaN</td>\n",
       "      <td>NaN</td>\n",
       "      <td>NaN</td>\n",
       "    </tr>\n",
       "  </tbody>\n",
       "</table>\n",
       "<p>5 rows × 74 columns</p>\n",
       "</div>"
      ],
      "text/plain": [
       "        id  member_id  loan_amnt  funded_amnt  funded_amnt_inv        term  \\\n",
       "0  1077501    1296599     5000.0       5000.0           4975.0   36 months   \n",
       "1  1077430    1314167     2500.0       2500.0           2500.0   60 months   \n",
       "2  1077175    1313524     2400.0       2400.0           2400.0   36 months   \n",
       "3  1076863    1277178    10000.0      10000.0          10000.0   36 months   \n",
       "4  1075358    1311748     3000.0       3000.0           3000.0   60 months   \n",
       "\n",
       "   int_rate  installment grade sub_grade     ...      total_bal_il il_util  \\\n",
       "0     10.65       162.87     B        B2     ...               NaN     NaN   \n",
       "1     15.27        59.83     C        C4     ...               NaN     NaN   \n",
       "2     15.96        84.33     C        C5     ...               NaN     NaN   \n",
       "3     13.49       339.31     C        C1     ...               NaN     NaN   \n",
       "4     12.69        67.79     B        B5     ...               NaN     NaN   \n",
       "\n",
       "  open_rv_12m  open_rv_24m max_bal_bc all_util total_rev_hi_lim inq_fi  \\\n",
       "0         NaN          NaN        NaN      NaN              NaN    NaN   \n",
       "1         NaN          NaN        NaN      NaN              NaN    NaN   \n",
       "2         NaN          NaN        NaN      NaN              NaN    NaN   \n",
       "3         NaN          NaN        NaN      NaN              NaN    NaN   \n",
       "4         NaN          NaN        NaN      NaN              NaN    NaN   \n",
       "\n",
       "  total_cu_tl inq_last_12m  \n",
       "0         NaN          NaN  \n",
       "1         NaN          NaN  \n",
       "2         NaN          NaN  \n",
       "3         NaN          NaN  \n",
       "4         NaN          NaN  \n",
       "\n",
       "[5 rows x 74 columns]"
      ]
     },
     "execution_count": 3,
     "metadata": {},
     "output_type": "execute_result"
    }
   ],
   "source": [
    "DIR = os.getcwd() + \"/../data/\"\n",
    "df = pd.read_csv(DIR + 'raw/lending-club-loan-data/loan.csv', low_memory=False)\n",
    "df.head()"
   ]
  },
  {
   "cell_type": "markdown",
   "metadata": {},
   "source": [
    "## Dealing with missing values\n"
   ]
  },
  {
   "cell_type": "code",
   "execution_count": 4,
   "metadata": {
    "collapsed": false
   },
   "outputs": [],
   "source": [
    "complete_cols = [column for column in df.columns if len(df[column][df[column].isnull()]) == 0]"
   ]
  },
  {
   "cell_type": "code",
   "execution_count": 51,
   "metadata": {
    "collapsed": false
   },
   "outputs": [
    {
     "name": "stdout",
     "output_type": "stream",
     "text": [
      "emp_title\t\tobject\n",
      "annual_inc\t\tfloat64\n",
      "title\t\tobject\n",
      "delinq_2yrs\t\tfloat64\n",
      "earliest_cr_line\t\tobject\n",
      "inq_last_6mths\t\tfloat64\n",
      "open_acc\t\tfloat64\n",
      "pub_rec\t\tfloat64\n",
      "revol_util\t\tfloat64\n",
      "total_acc\t\tfloat64\n",
      "last_pymnt_d\t\tobject\n",
      "next_pymnt_d\t\tobject\n",
      "last_credit_pull_d\t\tobject\n",
      "collections_12_mths_ex_med\t\tfloat64\n",
      "acc_now_delinq\t\tfloat64\n",
      "tot_coll_amt\t\tfloat64\n",
      "tot_cur_bal\t\tfloat64\n",
      "total_rev_hi_lim\t\tfloat64\n"
     ]
    },
    {
     "data": {
      "text/plain": [
       "(53, 35)"
      ]
     },
     "execution_count": 51,
     "metadata": {},
     "output_type": "execute_result"
    }
   ],
   "source": [
    "cols_to_keep = []\n",
    "to_impute = []\n",
    "\n",
    "for i in df.columns.values:\n",
    "    if df[i].isnull().any() == True:\n",
    "        ok = df[i].isnull().value_counts(sort = False) / len(df[i])\n",
    "        ok = ok.reset_index()\n",
    "        # Drop only cols for whom more than the majority (>50%) are missing\n",
    "        if ok[ok['index'] == False][i].item() > 0.5:\n",
    "            print \"{}\\t\\t{}\".format(i, df[i].dtype)\n",
    "            to_impute.append(i)\n",
    "            cols_to_keep.append(i)\n",
    "    else:\n",
    "        cols_to_keep.append(i)\n",
    "        \n",
    "len(cols_to_keep), len(complete_cols)"
   ]
  },
  {
   "cell_type": "markdown",
   "metadata": {},
   "source": [
    "#### Imputing missing values: `float64`"
   ]
  },
  {
   "cell_type": "code",
   "execution_count": 25,
   "metadata": {
    "collapsed": false
   },
   "outputs": [
    {
     "data": {
      "image/png": "[encoded data removed]",
      "text/plain": [
       "<matplotlib.figure.Figure at 0x11b6c81d0>"
      ]
     },
     "metadata": {},
     "output_type": "display_data"
    }
   ],
   "source": [
    "plt.hist(df['annual_inc'].dropna(), bins = 50)\n",
    "plt.show()"
   ]
  },
  {
   "cell_type": "code",
   "execution_count": 52,
   "metadata": {
    "collapsed": false
   },
   "outputs": [
    {
     "data": {
      "text/plain": [
       "((885412, 74), (887379, 74))"
      ]
     },
     "execution_count": 52,
     "metadata": {},
     "output_type": "execute_result"
    }
   ],
   "source": [
    "# Drop the people making over $400k a year\n",
    "df2 = df[df['annual_inc'] <= 400000].copy()\n",
    "df2.shape, df.shape"
   ]
  },
  {
   "cell_type": "code",
   "execution_count": 58,
   "metadata": {
    "collapsed": false
   },
   "outputs": [
    {
     "data": {
      "image/png": "[encoded data removed]",
      "text/plain": [
       "<matplotlib.figure.Figure at 0x1197e92d0>"
      ]
     },
     "metadata": {},
     "output_type": "display_data"
    }
   ],
   "source": [
    "plt.hist(df2['annual_inc'], bins = 50)\n",
    "plt.axvline(df2['annual_inc'].mean(), label = \"${:.2f}\".format(df2['annual_inc'].mean()))\n",
    "plt.title('Annual income (outlier millionaires removed)')\n",
    "plt.xlabel('USD/year')\n",
    "plt.legend()\n",
    "plt.show()"
   ]
  },
  {
   "cell_type": "code",
   "execution_count": 63,
   "metadata": {
    "collapsed": false
   },
   "outputs": [
    {
     "data": {
      "text/plain": [
       "((885387, 74), (885412, 74))"
      ]
     },
     "execution_count": 63,
     "metadata": {},
     "output_type": "execute_result"
    }
   ],
   "source": [
    "# Since it's just 25 out of 800k, I'll drop\n",
    "df2['delinq_2yrs'].value_counts(dropna = False)\n",
    "df3 = df2[df2['delinq_2yrs'].isnull() == False]\n",
    "df3.shape, df2.shape"
   ]
  },
  {
   "cell_type": "code",
   "execution_count": 67,
   "metadata": {
    "collapsed": false
   },
   "outputs": [
    {
     "data": {
      "text/plain": [
       "False    885387\n",
       "Name: inq_last_6mths, dtype: int64"
      ]
     },
     "execution_count": 67,
     "metadata": {},
     "output_type": "execute_result"
    }
   ],
   "source": [
    "df3['inq_last_6mths'].isnull().value_counts()"
   ]
  },
  {
   "cell_type": "code",
   "execution_count": 72,
   "metadata": {
    "collapsed": false
   },
   "outputs": [
    {
     "data": {
      "text/plain": [
       "False    884920\n",
       "True        467\n",
       "Name: revol_util, dtype: int64"
      ]
     },
     "execution_count": 72,
     "metadata": {},
     "output_type": "execute_result"
    }
   ],
   "source": [
    "df3['revol_util'].isnull().value_counts()"
   ]
  },
  {
   "cell_type": "code",
   "execution_count": 76,
   "metadata": {
    "collapsed": false
   },
   "outputs": [
    {
     "data": {
      "image/png": "[encoded data removed]",
      "text/plain": [
       "<matplotlib.figure.Figure at 0x11d2f4310>"
      ]
     },
     "metadata": {},
     "output_type": "display_data"
    }
   ],
   "source": [
    "plt.hist(df3['revol_util'].dropna(), bins = 50)\n",
    "plt.show()"
   ]
  },
  {
   "cell_type": "code",
   "execution_count": 83,
   "metadata": {
    "collapsed": false
   },
   "outputs": [
    {
     "data": {
      "text/plain": [
       "((884878, 74), (885387, 74))"
      ]
     },
     "execution_count": 83,
     "metadata": {},
     "output_type": "execute_result"
    }
   ],
   "source": [
    "float(df3[df3['revol_util'] > 100].shape[0]) / df3.shape[0]\n",
    "# Let's drop people using > 100% their credit rate\n",
    "\n",
    "df4 = df3[df3['revol_util'] <= 130].copy()\n",
    "df4.shape, df3.shape"
   ]
  },
  {
   "cell_type": "code",
   "execution_count": 84,
   "metadata": {
    "collapsed": false
   },
   "outputs": [
    {
     "data": {
      "text/plain": [
       "<matplotlib.axes._subplots.AxesSubplot at 0x1196ff0d0>"
      ]
     },
     "execution_count": 84,
     "metadata": {},
     "output_type": "execute_result"
    },
    {
     "data": {
      "image/png": "[encoded data removed]",
      "text/plain": [
       "<matplotlib.figure.Figure at 0x1196fe650>"
      ]
     },
     "metadata": {},
     "output_type": "display_data"
    }
   ],
   "source": [
    "df4['revol_util'].hist(bins = 50)"
   ]
  },
  {
   "cell_type": "code",
   "execution_count": 90,
   "metadata": {
    "collapsed": false
   },
   "outputs": [
    {
     "data": {
      "text/plain": [
       "((884766, 74), (884878, 74))"
      ]
     },
     "execution_count": 90,
     "metadata": {},
     "output_type": "execute_result"
    }
   ],
   "source": [
    "df5 = df4[df4['collections_12_mths_ex_med'].isnull() == False].copy()\n",
    "df5.shape, df4.shape"
   ]
  },
  {
   "cell_type": "code",
   "execution_count": 105,
   "metadata": {
    "collapsed": false
   },
   "outputs": [],
   "source": [
    "# Imputing using the mean\n",
    "df5['tot_coll_amt'].fillna(value = df5['tot_coll_amt'].mean(), inplace = True)"
   ]
  },
  {
   "cell_type": "code",
   "execution_count": 110,
   "metadata": {
    "collapsed": false
   },
   "outputs": [
    {
     "data": {
      "text/plain": [
       "<matplotlib.axes._subplots.AxesSubplot at 0x11d3bb2d0>"
      ]
     },
     "execution_count": 110,
     "metadata": {},
     "output_type": "execute_result"
    },
    {
     "data": {
      "image/png": "[encoded data removed]",
      "text/plain": [
       "<matplotlib.figure.Figure at 0x122492f90>"
      ]
     },
     "metadata": {},
     "output_type": "display_data"
    }
   ],
   "source": [
    "df5['tot_cur_bal'].hist(bins = 50)"
   ]
  },
  {
   "cell_type": "code",
   "execution_count": 115,
   "metadata": {
    "collapsed": false
   },
   "outputs": [
    {
     "data": {
      "text/html": [
       "<div>\n",
       "<table border=\"1\" class=\"dataframe\">\n",
       "  <thead>\n",
       "    <tr style=\"text-align: right;\">\n",
       "      <th></th>\n",
       "      <th>id</th>\n",
       "      <th>member_id</th>\n",
       "      <th>loan_amnt</th>\n",
       "      <th>funded_amnt</th>\n",
       "      <th>funded_amnt_inv</th>\n",
       "      <th>term</th>\n",
       "      <th>int_rate</th>\n",
       "      <th>installment</th>\n",
       "      <th>grade</th>\n",
       "      <th>sub_grade</th>\n",
       "      <th>...</th>\n",
       "      <th>last_pymnt_amnt</th>\n",
       "      <th>next_pymnt_d</th>\n",
       "      <th>last_credit_pull_d</th>\n",
       "      <th>collections_12_mths_ex_med</th>\n",
       "      <th>policy_code</th>\n",
       "      <th>application_type</th>\n",
       "      <th>acc_now_delinq</th>\n",
       "      <th>tot_coll_amt</th>\n",
       "      <th>tot_cur_bal</th>\n",
       "      <th>total_rev_hi_lim</th>\n",
       "    </tr>\n",
       "  </thead>\n",
       "  <tbody>\n",
       "    <tr>\n",
       "      <th>230652</th>\n",
       "      <td>1062400</td>\n",
       "      <td>1294262</td>\n",
       "      <td>20500.0</td>\n",
       "      <td>20500.0</td>\n",
       "      <td>20500.0</td>\n",
       "      <td>36 months</td>\n",
       "      <td>16.77</td>\n",
       "      <td>728.54</td>\n",
       "      <td>D</td>\n",
       "      <td>D2</td>\n",
       "      <td>...</td>\n",
       "      <td>10.21</td>\n",
       "      <td>NaN</td>\n",
       "      <td>Nov-2015</td>\n",
       "      <td>0.0</td>\n",
       "      <td>1.0</td>\n",
       "      <td>INDIVIDUAL</td>\n",
       "      <td>0.0</td>\n",
       "      <td>225.960795</td>\n",
       "      <td>NaN</td>\n",
       "      <td>NaN</td>\n",
       "    </tr>\n",
       "    <tr>\n",
       "      <th>230653</th>\n",
       "      <td>1059394</td>\n",
       "      <td>1291010</td>\n",
       "      <td>15000.0</td>\n",
       "      <td>15000.0</td>\n",
       "      <td>15000.0</td>\n",
       "      <td>36 months</td>\n",
       "      <td>15.27</td>\n",
       "      <td>521.97</td>\n",
       "      <td>C</td>\n",
       "      <td>C4</td>\n",
       "      <td>...</td>\n",
       "      <td>541.95</td>\n",
       "      <td>NaN</td>\n",
       "      <td>Dec-2014</td>\n",
       "      <td>0.0</td>\n",
       "      <td>1.0</td>\n",
       "      <td>INDIVIDUAL</td>\n",
       "      <td>0.0</td>\n",
       "      <td>225.960795</td>\n",
       "      <td>NaN</td>\n",
       "      <td>NaN</td>\n",
       "    </tr>\n",
       "    <tr>\n",
       "      <th>230654</th>\n",
       "      <td>1059224</td>\n",
       "      <td>1290827</td>\n",
       "      <td>35000.0</td>\n",
       "      <td>35000.0</td>\n",
       "      <td>35000.0</td>\n",
       "      <td>36 months</td>\n",
       "      <td>15.96</td>\n",
       "      <td>1229.81</td>\n",
       "      <td>C</td>\n",
       "      <td>C5</td>\n",
       "      <td>...</td>\n",
       "      <td>1244.72</td>\n",
       "      <td>NaN</td>\n",
       "      <td>Dec-2014</td>\n",
       "      <td>0.0</td>\n",
       "      <td>1.0</td>\n",
       "      <td>INDIVIDUAL</td>\n",
       "      <td>0.0</td>\n",
       "      <td>225.960795</td>\n",
       "      <td>NaN</td>\n",
       "      <td>NaN</td>\n",
       "    </tr>\n",
       "    <tr>\n",
       "      <th>230655</th>\n",
       "      <td>1058722</td>\n",
       "      <td>1290521</td>\n",
       "      <td>12000.0</td>\n",
       "      <td>12000.0</td>\n",
       "      <td>12000.0</td>\n",
       "      <td>36 months</td>\n",
       "      <td>16.29</td>\n",
       "      <td>423.61</td>\n",
       "      <td>D</td>\n",
       "      <td>D1</td>\n",
       "      <td>...</td>\n",
       "      <td>423.61</td>\n",
       "      <td>NaN</td>\n",
       "      <td>Sep-2012</td>\n",
       "      <td>0.0</td>\n",
       "      <td>1.0</td>\n",
       "      <td>INDIVIDUAL</td>\n",
       "      <td>0.0</td>\n",
       "      <td>225.960795</td>\n",
       "      <td>NaN</td>\n",
       "      <td>NaN</td>\n",
       "    </tr>\n",
       "    <tr>\n",
       "      <th>230656</th>\n",
       "      <td>1058291</td>\n",
       "      <td>1289878</td>\n",
       "      <td>12000.0</td>\n",
       "      <td>7775.0</td>\n",
       "      <td>7775.0</td>\n",
       "      <td>60 months</td>\n",
       "      <td>15.27</td>\n",
       "      <td>186.08</td>\n",
       "      <td>C</td>\n",
       "      <td>C4</td>\n",
       "      <td>...</td>\n",
       "      <td>186.08</td>\n",
       "      <td>Feb-2016</td>\n",
       "      <td>Jan-2016</td>\n",
       "      <td>0.0</td>\n",
       "      <td>1.0</td>\n",
       "      <td>INDIVIDUAL</td>\n",
       "      <td>0.0</td>\n",
       "      <td>225.960795</td>\n",
       "      <td>NaN</td>\n",
       "      <td>NaN</td>\n",
       "    </tr>\n",
       "  </tbody>\n",
       "</table>\n",
       "<p>5 rows × 53 columns</p>\n",
       "</div>"
      ],
      "text/plain": [
       "             id  member_id  loan_amnt  funded_amnt  funded_amnt_inv  \\\n",
       "230652  1062400    1294262    20500.0      20500.0          20500.0   \n",
       "230653  1059394    1291010    15000.0      15000.0          15000.0   \n",
       "230654  1059224    1290827    35000.0      35000.0          35000.0   \n",
       "230655  1058722    1290521    12000.0      12000.0          12000.0   \n",
       "230656  1058291    1289878    12000.0       7775.0           7775.0   \n",
       "\n",
       "              term  int_rate  installment grade sub_grade       ...         \\\n",
       "230652   36 months     16.77       728.54     D        D2       ...          \n",
       "230653   36 months     15.27       521.97     C        C4       ...          \n",
       "230654   36 months     15.96      1229.81     C        C5       ...          \n",
       "230655   36 months     16.29       423.61     D        D1       ...          \n",
       "230656   60 months     15.27       186.08     C        C4       ...          \n",
       "\n",
       "       last_pymnt_amnt next_pymnt_d last_credit_pull_d  \\\n",
       "230652           10.21          NaN           Nov-2015   \n",
       "230653          541.95          NaN           Dec-2014   \n",
       "230654         1244.72          NaN           Dec-2014   \n",
       "230655          423.61          NaN           Sep-2012   \n",
       "230656          186.08     Feb-2016           Jan-2016   \n",
       "\n",
       "        collections_12_mths_ex_med policy_code application_type  \\\n",
       "230652                         0.0         1.0       INDIVIDUAL   \n",
       "230653                         0.0         1.0       INDIVIDUAL   \n",
       "230654                         0.0         1.0       INDIVIDUAL   \n",
       "230655                         0.0         1.0       INDIVIDUAL   \n",
       "230656                         0.0         1.0       INDIVIDUAL   \n",
       "\n",
       "       acc_now_delinq tot_coll_amt tot_cur_bal total_rev_hi_lim  \n",
       "230652            0.0   225.960795         NaN              NaN  \n",
       "230653            0.0   225.960795         NaN              NaN  \n",
       "230654            0.0   225.960795         NaN              NaN  \n",
       "230655            0.0   225.960795         NaN              NaN  \n",
       "230656            0.0   225.960795         NaN              NaN  \n",
       "\n",
       "[5 rows x 53 columns]"
      ]
     },
     "execution_count": 115,
     "metadata": {},
     "output_type": "execute_result"
    }
   ],
   "source": [
    "df5[df5['tot_cur_bal'].isnull() == True][cols_to_keep].tail()"
   ]
  },
  {
   "cell_type": "code",
   "execution_count": 116,
   "metadata": {
    "collapsed": true
   },
   "outputs": [],
   "source": [
    "# I think it makes sense to set these to zero - these are people who's current balance is NaN\n",
    "# because their loan is finished/paid off\n",
    "df5['tot_cur_bal'].fillna(value = 0, inplace = True)"
   ]
  },
  {
   "cell_type": "code",
   "execution_count": 133,
   "metadata": {
    "collapsed": false
   },
   "outputs": [
    {
     "data": {
      "text/plain": [
       "52"
      ]
     },
     "execution_count": 133,
     "metadata": {},
     "output_type": "execute_result"
    }
   ],
   "source": [
    "# Let's just drop this column\n",
    "cols_to_keep.remove('total_rev_hi_lim')\n",
    "len(cols_to_keep)"
   ]
  },
  {
   "cell_type": "code",
   "execution_count": 136,
   "metadata": {
    "collapsed": false
   },
   "outputs": [
    {
     "data": {
      "text/plain": [
       "Aug-2001    6647\n",
       "Aug-2000    6516\n",
       "Oct-2000    6308\n",
       "Oct-2001    6141\n",
       "Aug-2002    6076\n",
       "Sep-2000    5904\n",
       "Nov-1999    5861\n",
       "Oct-1999    5811\n",
       "Nov-2000    5808\n",
       "Sep-2002    5803\n",
       "Oct-2002    5673\n",
       "Sep-2001    5665\n",
       "Sep-2003    5603\n",
       "Aug-1999    5586\n",
       "Sep-1999    5575\n",
       "Jul-2001    5320\n",
       "Nov-2001    5209\n",
       "Oct-2003    5203\n",
       "Aug-2003    5193\n",
       "Mar-2001    5158\n",
       "Sep-1998    5130\n",
       "Dec-2000    5091\n",
       "Sep-2004    5062\n",
       "May-2001    5056\n",
       "Dec-2001    5035\n",
       "Dec-1999    5007\n",
       "Jul-2000    4979\n",
       "Oct-1998    4931\n",
       "Jun-2001    4923\n",
       "Mar-2000    4895\n",
       "            ... \n",
       "Feb-1960       1\n",
       "Jul-1955       1\n",
       "Oct-1954       1\n",
       "Aug-1958       1\n",
       "Jul-1961       1\n",
       "Jun-1949       1\n",
       "Mar-1955       1\n",
       "Mar-1958       1\n",
       "Mar-1959       1\n",
       "Oct-1950       1\n",
       "May-1953       1\n",
       "May-1950       1\n",
       "May-1961       1\n",
       "May-1957       1\n",
       "May-1958       1\n",
       "Dec-1959       1\n",
       "Aug-1946       1\n",
       "Apr-1958       1\n",
       "Sep-1953       1\n",
       "Sep-1957       1\n",
       "Dec-1950       1\n",
       "Nov-1950       1\n",
       "Nov-1953       1\n",
       "Nov-1955       1\n",
       "Nov-1957       1\n",
       "Feb-1957       1\n",
       "Dec-1951       1\n",
       "Oct-1957       1\n",
       "Jun-1955       1\n",
       "Jan-1948       1\n",
       "Name: earliest_cr_line, dtype: int64"
      ]
     },
     "execution_count": 136,
     "metadata": {},
     "output_type": "execute_result"
    }
   ],
   "source": [
    "df5['earliest_cr_line'].value_counts(dropna = False)"
   ]
  },
  {
   "cell_type": "code",
   "execution_count": null,
   "metadata": {
    "collapsed": true
   },
   "outputs": [],
   "source": []
  },
  {
   "cell_type": "code",
   "execution_count": null,
   "metadata": {
    "collapsed": true
   },
   "outputs": [],
   "source": []
  },
  {
   "cell_type": "code",
   "execution_count": null,
   "metadata": {
    "collapsed": true
   },
   "outputs": [],
   "source": []
  },
  {
   "cell_type": "code",
   "execution_count": null,
   "metadata": {
    "collapsed": true
   },
   "outputs": [],
   "source": []
  },
  {
   "cell_type": "code",
   "execution_count": 5,
   "metadata": {
    "collapsed": false
   },
   "outputs": [
    {
     "data": {
      "text/plain": [
       "False    0.801466\n",
       "True     0.198534\n",
       "Name: emp_title, dtype: float64"
      ]
     },
     "execution_count": 5,
     "metadata": {},
     "output_type": "execute_result"
    }
   ],
   "source": [
    "df['emp_title'].apply(lambda x: spell_check.check(x)).value_counts() / len(df['emp_title'])"
   ]
  },
  {
   "cell_type": "code",
   "execution_count": 6,
   "metadata": {
    "collapsed": false
   },
   "outputs": [
    {
     "data": {
      "text/plain": [
       "Teacher                                13469\n",
       "Manager                                11240\n",
       "Registered Nurse                        5525\n",
       "Owner                                   5376\n",
       "RN                                      5355\n",
       "Supervisor                              4983\n",
       "Sales                                   4212\n",
       "Project Manager                         3988\n",
       "Driver                                  3569\n",
       "Office Manager                          3510\n",
       "General Manager                         3178\n",
       "Director                                3156\n",
       "manager                                 3138\n",
       "teacher                                 2925\n",
       "owner                                   2849\n",
       "Engineer                                2671\n",
       "President                               2598\n",
       "driver                                  2429\n",
       "Vice President                          2351\n",
       "Attorney                                2136\n",
       "Operations Manager                      2071\n",
       "Accountant                              2035\n",
       "Administrative Assistant                2019\n",
       "Sales Manager                           1846\n",
       "Account Manager                         1725\n",
       "sales                                   1724\n",
       "Police Officer                          1720\n",
       "supervisor                              1675\n",
       "Executive Assistant                     1603\n",
       "Analyst                                 1538\n",
       "                                       ...  \n",
       "PSECU                                      1\n",
       "rn casemanager                             1\n",
       "corporate strategy                         1\n",
       "Youth Worker/Officer June 2014             1\n",
       "crestron electronics                       1\n",
       "Corporate Manager, Finance                 1\n",
       "McGuire VA Medical Center                  1\n",
       "CAM CREDITS,INC                            1\n",
       "Tropical Smoothie Cafe                     1\n",
       "Wareen County Sheriff office               1\n",
       "Sr. Credentialing Coordinator              1\n",
       "withnell dodge                             1\n",
       "Debevoise & Plimpton                       1\n",
       "CFO, Principal                             1\n",
       "Corporate Chef - Outback Steakhouse        1\n",
       "tractor trailer                            1\n",
       "DIRECTOR SALES NATIONAL ACCOUNTS           1\n",
       "Sr. Sterilization Technician               1\n",
       "Extended Stay America/HVM                  1\n",
       "OPERATIONS CONTROLLER                      1\n",
       "PRESIDENT/CEO                              1\n",
       "Manager assist                             1\n",
       "Mechanic / manager                         1\n",
       "Senior collector                           1\n",
       "VNB INC.                                   1\n",
       "Carols Daughter                            1\n",
       "Sss3                                       1\n",
       "Los Alamos National Labs                   1\n",
       "Town of North Providence                   1\n",
       "Elmsford Union Free School District        1\n",
       "Name: emp_title, dtype: int64"
      ]
     },
     "execution_count": 6,
     "metadata": {},
     "output_type": "execute_result"
    }
   ],
   "source": [
    "df['emp_title'].value_counts()"
   ]
  },
  {
   "cell_type": "code",
   "execution_count": null,
   "metadata": {
    "collapsed": true
   },
   "outputs": [],
   "source": []
  },
  {
   "cell_type": "code",
   "execution_count": null,
   "metadata": {
    "collapsed": true
   },
   "outputs": [],
   "source": []
  },
  {
   "cell_type": "code",
   "execution_count": null,
   "metadata": {
    "collapsed": true
   },
   "outputs": [],
   "source": []
  },
  {
   "cell_type": "code",
   "execution_count": null,
   "metadata": {
    "collapsed": true
   },
   "outputs": [],
   "source": []
  },
  {
   "cell_type": "code",
   "execution_count": null,
   "metadata": {
    "collapsed": true
   },
   "outputs": [],
   "source": []
  },
  {
   "cell_type": "code",
   "execution_count": null,
   "metadata": {
    "collapsed": true
   },
   "outputs": [],
   "source": []
  },
  {
   "cell_type": "code",
   "execution_count": 4,
   "metadata": {
    "collapsed": false
   },
   "outputs": [],
   "source": [
    "catagorical_cols = [\n",
    "    'application_type', 'initial_list_status',\n",
    "    'purpose', 'pymnt_plan', 'verification_status',\n",
    "    'emp_length', 'term'\n",
    "]\n",
    "\n",
    "continous_cols =  [\n",
    " 'loan_amnt','funded_amnt','funded_amnt_inv','installment',\n",
    " 'dti','revol_bal'\n",
    "]\n",
    "\n",
    "y_col = ['int_rate']\n"
   ]
  },
  {
   "cell_type": "code",
   "execution_count": 5,
   "metadata": {
    "collapsed": false
   },
   "outputs": [],
   "source": [
    "df_data = df[catagorical_cols + continous_cols]"
   ]
  },
  {
   "cell_type": "code",
   "execution_count": 6,
   "metadata": {
    "collapsed": false
   },
   "outputs": [
    {
     "name": "stderr",
     "output_type": "stream",
     "text": [
      "/usr/local/lib/python3.5/site-packages/ipykernel/__main__.py:3: SettingWithCopyWarning: \n",
      "A value is trying to be set on a copy of a slice from a DataFrame.\n",
      "Try using .loc[row_indexer,col_indexer] = value instead\n",
      "\n",
      "See the caveats in the documentation: http://pandas.pydata.org/pandas-docs/stable/indexing.html#indexing-view-versus-copy\n",
      "  app.launch_new_instance()\n"
     ]
    }
   ],
   "source": [
    "# Converted columns to floating point\n",
    "for feature_name in continous_cols:\n",
    "    df_data[feature_name] = df_data[feature_name].astype(float)"
   ]
  },
  {
   "cell_type": "code",
   "execution_count": 7,
   "metadata": {
    "collapsed": false
   },
   "outputs": [],
   "source": [
    "data = pd.get_dummies(df_data)"
   ]
  },
  {
   "cell_type": "code",
   "execution_count": 8,
   "metadata": {
    "collapsed": false
   },
   "outputs": [
    {
     "data": {
      "text/html": [
       "<div>\n",
       "<table border=\"1\" class=\"dataframe\">\n",
       "  <thead>\n",
       "    <tr style=\"text-align: right;\">\n",
       "      <th></th>\n",
       "      <th>loan_amnt</th>\n",
       "      <th>funded_amnt</th>\n",
       "      <th>funded_amnt_inv</th>\n",
       "      <th>installment</th>\n",
       "      <th>dti</th>\n",
       "      <th>revol_bal</th>\n",
       "      <th>application_type_INDIVIDUAL</th>\n",
       "      <th>application_type_JOINT</th>\n",
       "      <th>initial_list_status_f</th>\n",
       "      <th>initial_list_status_w</th>\n",
       "      <th>...</th>\n",
       "      <th>emp_length_4 years</th>\n",
       "      <th>emp_length_5 years</th>\n",
       "      <th>emp_length_6 years</th>\n",
       "      <th>emp_length_7 years</th>\n",
       "      <th>emp_length_8 years</th>\n",
       "      <th>emp_length_9 years</th>\n",
       "      <th>emp_length_&lt; 1 year</th>\n",
       "      <th>emp_length_n/a</th>\n",
       "      <th>term_ 36 months</th>\n",
       "      <th>term_ 60 months</th>\n",
       "    </tr>\n",
       "  </thead>\n",
       "  <tbody>\n",
       "    <tr>\n",
       "      <th>887376</th>\n",
       "      <td>13000.0</td>\n",
       "      <td>13000.0</td>\n",
       "      <td>13000.0</td>\n",
       "      <td>316.07</td>\n",
       "      <td>30.90</td>\n",
       "      <td>11031.0</td>\n",
       "      <td>1.0</td>\n",
       "      <td>0.0</td>\n",
       "      <td>0.0</td>\n",
       "      <td>1.0</td>\n",
       "      <td>...</td>\n",
       "      <td>0.0</td>\n",
       "      <td>1.0</td>\n",
       "      <td>0.0</td>\n",
       "      <td>0.0</td>\n",
       "      <td>0.0</td>\n",
       "      <td>0.0</td>\n",
       "      <td>0.0</td>\n",
       "      <td>0.0</td>\n",
       "      <td>0.0</td>\n",
       "      <td>1.0</td>\n",
       "    </tr>\n",
       "    <tr>\n",
       "      <th>887377</th>\n",
       "      <td>12000.0</td>\n",
       "      <td>12000.0</td>\n",
       "      <td>12000.0</td>\n",
       "      <td>317.86</td>\n",
       "      <td>27.19</td>\n",
       "      <td>8254.0</td>\n",
       "      <td>1.0</td>\n",
       "      <td>0.0</td>\n",
       "      <td>0.0</td>\n",
       "      <td>1.0</td>\n",
       "      <td>...</td>\n",
       "      <td>0.0</td>\n",
       "      <td>0.0</td>\n",
       "      <td>0.0</td>\n",
       "      <td>0.0</td>\n",
       "      <td>0.0</td>\n",
       "      <td>0.0</td>\n",
       "      <td>0.0</td>\n",
       "      <td>0.0</td>\n",
       "      <td>0.0</td>\n",
       "      <td>1.0</td>\n",
       "    </tr>\n",
       "    <tr>\n",
       "      <th>887378</th>\n",
       "      <td>20000.0</td>\n",
       "      <td>20000.0</td>\n",
       "      <td>20000.0</td>\n",
       "      <td>664.20</td>\n",
       "      <td>10.83</td>\n",
       "      <td>33266.0</td>\n",
       "      <td>1.0</td>\n",
       "      <td>0.0</td>\n",
       "      <td>1.0</td>\n",
       "      <td>0.0</td>\n",
       "      <td>...</td>\n",
       "      <td>0.0</td>\n",
       "      <td>0.0</td>\n",
       "      <td>0.0</td>\n",
       "      <td>0.0</td>\n",
       "      <td>0.0</td>\n",
       "      <td>0.0</td>\n",
       "      <td>0.0</td>\n",
       "      <td>0.0</td>\n",
       "      <td>1.0</td>\n",
       "      <td>0.0</td>\n",
       "    </tr>\n",
       "  </tbody>\n",
       "</table>\n",
       "<p>3 rows × 43 columns</p>\n",
       "</div>"
      ],
      "text/plain": [
       "        loan_amnt  funded_amnt  funded_amnt_inv  installment    dti  \\\n",
       "887376    13000.0      13000.0          13000.0       316.07  30.90   \n",
       "887377    12000.0      12000.0          12000.0       317.86  27.19   \n",
       "887378    20000.0      20000.0          20000.0       664.20  10.83   \n",
       "\n",
       "        revol_bal  application_type_INDIVIDUAL  application_type_JOINT  \\\n",
       "887376    11031.0                          1.0                     0.0   \n",
       "887377     8254.0                          1.0                     0.0   \n",
       "887378    33266.0                          1.0                     0.0   \n",
       "\n",
       "        initial_list_status_f  initial_list_status_w       ...         \\\n",
       "887376                    0.0                    1.0       ...          \n",
       "887377                    0.0                    1.0       ...          \n",
       "887378                    1.0                    0.0       ...          \n",
       "\n",
       "        emp_length_4 years  emp_length_5 years  emp_length_6 years  \\\n",
       "887376                 0.0                 1.0                 0.0   \n",
       "887377                 0.0                 0.0                 0.0   \n",
       "887378                 0.0                 0.0                 0.0   \n",
       "\n",
       "        emp_length_7 years  emp_length_8 years  emp_length_9 years  \\\n",
       "887376                 0.0                 0.0                 0.0   \n",
       "887377                 0.0                 0.0                 0.0   \n",
       "887378                 0.0                 0.0                 0.0   \n",
       "\n",
       "        emp_length_< 1 year  emp_length_n/a  term_ 36 months  term_ 60 months  \n",
       "887376                  0.0             0.0              0.0              1.0  \n",
       "887377                  0.0             0.0              0.0              1.0  \n",
       "887378                  0.0             0.0              1.0              0.0  \n",
       "\n",
       "[3 rows x 43 columns]"
      ]
     },
     "execution_count": 8,
     "metadata": {},
     "output_type": "execute_result"
    }
   ],
   "source": [
    "data.tail(3)"
   ]
  },
  {
   "cell_type": "code",
   "execution_count": 9,
   "metadata": {
    "collapsed": false
   },
   "outputs": [],
   "source": [
    "x = data.values[:, :]\n",
    "y = df[y_col].values[:,-1]"
   ]
  },
  {
   "cell_type": "code",
   "execution_count": 10,
   "metadata": {
    "collapsed": true
   },
   "outputs": [],
   "source": [
    "# def encode_categorical(array):\n",
    "#     if not array.dtype == np.dtype('float64'):\n",
    "#         return LabelEncoder().fit_transform(array) \n",
    "#     else:\n",
    "#         return array\n",
    "    \n",
    "# # Categorical columns for use in one-hot encoder\n",
    "# categorical = (df_data.dtypes.values != np.dtype('float64'))\n",
    "\n",
    "# # Encode all labels\n",
    "# data = df_data.apply(encode_categorical)\n",
    "\n",
    "# # Get numpy array from data\n",
    "# x = data.values[:, :-1]\n",
    "# y = data.values[:, -1]\n",
    "\n",
    "# # Apply one hot endcoing\n",
    "# encoder = OneHotEncoder(categorical_features=categorical[:-1], sparse=False)  # Last value in mask is y\n",
    "# x = encoder.fit_transform(x)"
   ]
  },
  {
   "cell_type": "code",
   "execution_count": 11,
   "metadata": {
    "collapsed": false
   },
   "outputs": [
    {
     "data": {
      "image/png": "[encoded data removed]",
      "text/plain": [
       "<matplotlib.figure.Figure at 0x10259ac18>"
      ]
     },
     "metadata": {},
     "output_type": "display_data"
    }
   ],
   "source": [
    "plt.hist(y, bins=10)  # plt.hist passes it's arguments to np.histogram\n",
    "plt.axvline(np.mean(y), color='black', linestyle='-', lw=6, label='Mean Interest rate')\n",
    "plt.axvline(np.mean(y) - np.std(y), color='black', linestyle='--', lw=2, label='Std')\n",
    "plt.axvline(np.mean(y) + np.std(y), color='black', linestyle='--', lw=2)\n",
    "plt.title(\"Histogram of Interest Rates, Mean of {:0.2f}%\".format(np.mean(y)))\n",
    "plt.legend()\n",
    "plt.show()"
   ]
  },
  {
   "cell_type": "code",
   "execution_count": 12,
   "metadata": {
    "collapsed": false
   },
   "outputs": [],
   "source": [
    "%%bash\n",
    "say 'Done'"
   ]
  },
  {
   "cell_type": "code",
   "execution_count": 13,
   "metadata": {
    "collapsed": false
   },
   "outputs": [],
   "source": [
    "from sklearn.cross_validation import train_test_split\n",
    "X_train, X_test, y_train, y_test = train_test_split(x, y, test_size=0.33, random_state=42)"
   ]
  },
  {
   "cell_type": "markdown",
   "metadata": {},
   "source": [
    "# Ridge\n",
    "\n",
    "I tried using LASSO, it took too long.\n",
    "\n",
    "Regulaization doesn't seem to improve the error"
   ]
  },
  {
   "cell_type": "code",
   "execution_count": 63,
   "metadata": {
    "collapsed": false
   },
   "outputs": [],
   "source": [
    "from sklearn.linear_model import Ridge\n",
    "from sklearn.cross_validation import KFold\n",
    "from sklearn.cross_validation import cross_val_score\n",
    "\n",
    "scores_ridge = list()\n",
    "scores_std_ridge = list()\n",
    "\n",
    "ridge = Ridge()\n",
    "coefs = []\n",
    "errors = []\n",
    "\n",
    "alphas = np.logspace(-6, 6, 20)\n",
    "\n",
    "# Train the model with different regularisation strengths\n",
    "for a in alphas:\n",
    "    ridge.set_params(alpha=a)\n",
    "    this_scores = cross_val_score(ridge, X_train, y_train, cv=3, n_jobs=1)\n",
    "    scores_ridge.append(np.mean(this_scores))\n",
    "    scores_std_ridge.append(np.std(this_scores))"
   ]
  },
  {
   "cell_type": "code",
   "execution_count": 24,
   "metadata": {
    "collapsed": false
   },
   "outputs": [
    {
     "data": {
      "text/plain": [
       "(9.9999999999999995e-07, 1000000.0)"
      ]
     },
     "execution_count": 24,
     "metadata": {},
     "output_type": "execute_result"
    },
    {
     "data": {
      "image/png": "[encoded data removed]",
      "text/plain": [
       "<matplotlib.figure.Figure at 0x112e1fcf8>"
      ]
     },
     "metadata": {},
     "output_type": "display_data"
    }
   ],
   "source": [
    "scores_ridge, scores_std_ridge = np.array(scores_ridge), np.array(scores_std_ridge)\n",
    "\n",
    "plt.figure().set_size_inches(8, 6)\n",
    "plt.semilogx(alphas, scores_ridge)\n",
    "\n",
    "# plot error lines showing +/- std. errors of the scores\n",
    "std_error = scores_std_ridge / np.sqrt(3)\n",
    "\n",
    "plt.semilogx(alphas, scores_ridge + std_error, 'b--')\n",
    "plt.semilogx(alphas, scores_ridge - std_error, 'b--')\n",
    "\n",
    "# alpha=0.2 controls the translucency of the fill color\n",
    "plt.fill_between(alphas, scores_ridge + scores_std_ridge, scores_ridge - scores_std_ridge, alpha=0.2)\n",
    "\n",
    "plt.ylabel('CV score +/- std error')\n",
    "plt.xlabel('alpha')\n",
    "plt.title('Ridge Regression')\n",
    "plt.axhline(np.max(scores_ridge), linestyle='--', color='.5')\n",
    "plt.xlim([alphas[0], alphas[-1]])"
   ]
  },
  {
   "cell_type": "markdown",
   "metadata": {},
   "source": [
    "# Linear Regression"
   ]
  },
  {
   "cell_type": "code",
   "execution_count": 59,
   "metadata": {
    "collapsed": false
   },
   "outputs": [
    {
     "name": "stdout",
     "output_type": "stream",
     "text": [
      "0.54677017964\n",
      "8.72374023156\n"
     ]
    }
   ],
   "source": [
    "from sklearn.linear_model import LinearRegression\n",
    "from sklearn.metrics import mean_squared_error\n",
    "from sklearn.metrics import r2_score\n",
    "\n",
    "linreg = LinearRegression()\n",
    "\n",
    "linreg.fit(X_train, y_train)\n",
    "\n",
    "prediction = linreg.predict(X_test)\n",
    "\n",
    "print(linreg.score(X_test, y_test))\n",
    "\n",
    "print(mean_squared_error(prediction, y_test))"
   ]
  },
  {
   "cell_type": "code",
   "execution_count": 58,
   "metadata": {
    "collapsed": false
   },
   "outputs": [
    {
     "name": "stdout",
     "output_type": "stream",
     "text": [
      "Intercept: 17.70\n"
     ]
    }
   ],
   "source": [
    "print('Intercept: {:0.2f}'.format(linreg.intercept_))"
   ]
  },
  {
   "cell_type": "code",
   "execution_count": 57,
   "metadata": {
    "collapsed": false,
    "scrolled": true
   },
   "outputs": [
    {
     "name": "stdout",
     "output_type": "stream",
     "text": [
      "Coeff\n"
     ]
    },
    {
     "data": {
      "text/html": [
       "<div>\n",
       "<table border=\"1\" class=\"dataframe\">\n",
       "  <thead>\n",
       "    <tr style=\"text-align: right;\">\n",
       "      <th></th>\n",
       "      <th>funded_amnt_inv</th>\n",
       "      <th>emp_length_n/a</th>\n",
       "      <th>purpose_wedding</th>\n",
       "      <th>emp_length_7 years</th>\n",
       "      <th>purpose_house</th>\n",
       "      <th>purpose_medical</th>\n",
       "      <th>verification_status_Verified</th>\n",
       "      <th>application_type_JOINT</th>\n",
       "      <th>revol_bal</th>\n",
       "      <th>purpose_other</th>\n",
       "      <th>...</th>\n",
       "      <th>purpose_small_business</th>\n",
       "      <th>purpose_major_purchase</th>\n",
       "      <th>purpose_vacation</th>\n",
       "      <th>emp_length_2 years</th>\n",
       "      <th>pymnt_plan_y</th>\n",
       "      <th>purpose_credit_card</th>\n",
       "      <th>emp_length_1 year</th>\n",
       "      <th>emp_length_8 years</th>\n",
       "      <th>emp_length_10+ years</th>\n",
       "      <th>purpose_debt_consolidation</th>\n",
       "    </tr>\n",
       "  </thead>\n",
       "  <tbody>\n",
       "    <tr>\n",
       "      <th>0</th>\n",
       "      <td>0.000042</td>\n",
       "      <td>0.014402</td>\n",
       "      <td>-0.108279</td>\n",
       "      <td>0.05202</td>\n",
       "      <td>0.67065</td>\n",
       "      <td>0.718338</td>\n",
       "      <td>0.657788</td>\n",
       "      <td>0.12279</td>\n",
       "      <td>-0.000006</td>\n",
       "      <td>0.788298</td>\n",
       "      <td>...</td>\n",
       "      <td>0.619513</td>\n",
       "      <td>-1.061428</td>\n",
       "      <td>1.252798</td>\n",
       "      <td>0.041809</td>\n",
       "      <td>0.00997</td>\n",
       "      <td>-1.628181</td>\n",
       "      <td>0.078514</td>\n",
       "      <td>-0.056309</td>\n",
       "      <td>-0.095276</td>\n",
       "      <td>-0.798157</td>\n",
       "    </tr>\n",
       "  </tbody>\n",
       "</table>\n",
       "<p>1 rows × 43 columns</p>\n",
       "</div>"
      ],
      "text/plain": [
       "   funded_amnt_inv  emp_length_n/a  purpose_wedding  emp_length_7 years  \\\n",
       "0         0.000042        0.014402        -0.108279             0.05202   \n",
       "\n",
       "   purpose_house  purpose_medical  verification_status_Verified  \\\n",
       "0        0.67065         0.718338                      0.657788   \n",
       "\n",
       "   application_type_JOINT  revol_bal  purpose_other  \\\n",
       "0                 0.12279  -0.000006       0.788298   \n",
       "\n",
       "              ...              purpose_small_business  purpose_major_purchase  \\\n",
       "0             ...                            0.619513               -1.061428   \n",
       "\n",
       "   purpose_vacation  emp_length_2 years  pymnt_plan_y  purpose_credit_card  \\\n",
       "0          1.252798            0.041809       0.00997            -1.628181   \n",
       "\n",
       "   emp_length_1 year  emp_length_8 years  emp_length_10+ years  \\\n",
       "0           0.078514           -0.056309             -0.095276   \n",
       "\n",
       "   purpose_debt_consolidation  \n",
       "0                   -0.798157  \n",
       "\n",
       "[1 rows x 43 columns]"
      ]
     },
     "execution_count": 57,
     "metadata": {},
     "output_type": "execute_result"
    }
   ],
   "source": [
    "print('Coeff')\n",
    "pd.DataFrame.from_dict(dict(zip(data.columns, linreg.coef_)), orient='index').T"
   ]
  },
  {
   "cell_type": "code",
   "execution_count": 67,
   "metadata": {
    "collapsed": false
   },
   "outputs": [
    {
     "name": "stdout",
     "output_type": "stream",
     "text": [
      "                            OLS Regression Results                            \n",
      "==============================================================================\n",
      "Dep. Variable:                      y   R-squared:                       0.550\n",
      "Model:                            OLS   Adj. R-squared:                  0.550\n",
      "Method:                 Least Squares   F-statistic:                 2.016e+04\n",
      "Date:                Sat, 26 Nov 2016   Prob (F-statistic):               0.00\n",
      "Time:                        23:57:22   Log-Likelihood:            -1.4845e+06\n",
      "No. Observations:              594543   AIC:                         2.969e+06\n",
      "Df Residuals:                  594506   BIC:                         2.969e+06\n",
      "Df Model:                          36                                         \n",
      "Covariance Type:            nonrobust                                         \n",
      "==============================================================================\n",
      "                 coef    std err          t      P>|t|      [95.0% Conf. Int.]\n",
      "------------------------------------------------------------------------------\n",
      "x1            -0.0003    1.2e-05    -27.602      0.000        -0.000    -0.000\n",
      "x2            -0.0013   1.47e-05    -87.921      0.000        -0.001    -0.001\n",
      "x3          4.193e-05   7.31e-06      5.738      0.000      2.76e-05  5.62e-05\n",
      "x4             0.0506   8.77e-05    577.087      0.000         0.050     0.051\n",
      "x5             0.0128      0.000     51.279      0.000         0.012     0.013\n",
      "x6         -5.843e-06   1.85e-07    -31.519      0.000     -6.21e-06 -5.48e-06\n",
      "x7             3.4348      0.129     26.647      0.000         3.182     3.687\n",
      "x8             3.6804      0.148     24.893      0.000         3.391     3.970\n",
      "x9             3.9347      0.113     34.844      0.000         3.713     4.156\n",
      "x10            3.1805      0.113     28.160      0.000         2.959     3.402\n",
      "x11           -1.1885      0.043    -27.491      0.000        -1.273    -1.104\n",
      "x12           -1.1200      0.026    -42.971      0.000        -1.171    -1.069\n",
      "x13           -0.2899      0.025    -11.427      0.000        -0.340    -0.240\n",
      "x14            0.1445      0.165      0.874      0.382        -0.179     0.468\n",
      "x15           -0.5281      0.029    -18.283      0.000        -0.585    -0.471\n",
      "x16            1.1789      0.060     19.662      0.000         1.061     1.296\n",
      "x17           -0.5532      0.036    -15.574      0.000        -0.623    -0.484\n",
      "x18            1.2266      0.044     28.042      0.000         1.141     1.312\n",
      "x19            2.2993      0.052     44.559      0.000         2.198     2.400\n",
      "x20            1.2965      0.030     43.857      0.000         1.239     1.354\n",
      "x21            1.3603      0.144      9.476      0.000         1.079     1.642\n",
      "x22            1.1277      0.041     27.316      0.000         1.047     1.209\n",
      "x23            1.7610      0.055     32.167      0.000         1.654     1.868\n",
      "x24            0.3999      0.073      5.471      0.000         0.257     0.543\n",
      "x25            3.5476      0.444      7.989      0.000         2.677     4.418\n",
      "x26            3.5675      0.667      5.347      0.000         2.260     4.875\n",
      "x27            1.8489      0.075     24.502      0.000         1.701     1.997\n",
      "x28            2.2367      0.075     29.647      0.000         2.089     2.385\n",
      "x29            3.0295      0.075     40.143      0.000         2.882     3.177\n",
      "x30            0.6714      0.024     28.319      0.000         0.625     0.718\n",
      "x31            0.4977      0.020     24.541      0.000         0.458     0.537\n",
      "x32            0.6347      0.023     28.142      0.000         0.591     0.679\n",
      "x33            0.6021      0.023     26.220      0.000         0.557     0.647\n",
      "x34            0.5683      0.024     23.623      0.000         0.521     0.616\n",
      "x35            0.5537      0.024     23.236      0.000         0.507     0.600\n",
      "x36            0.6305      0.025     25.243      0.000         0.582     0.679\n",
      "x37            0.6449      0.025     26.031      0.000         0.596     0.694\n",
      "x38            0.5366      0.025     21.546      0.000         0.488     0.585\n",
      "x39            0.5361      0.026     20.483      0.000         0.485     0.587\n",
      "x40            0.6317      0.023     27.596      0.000         0.587     0.677\n",
      "x41            0.6073      0.025     24.232      0.000         0.558     0.656\n",
      "x42           -2.5029      0.113    -22.131      0.000        -2.725    -2.281\n",
      "x43            9.6180      0.113     84.929      0.000         9.396     9.840\n",
      "==============================================================================\n",
      "Omnibus:                    78283.091   Durbin-Watson:                   1.999\n",
      "Prob(Omnibus):                  0.000   Jarque-Bera (JB):           894843.584\n",
      "Skew:                           0.198   Prob(JB):                         0.00\n",
      "Kurtosis:                       8.997   Cond. No.                     1.10e+16\n",
      "==============================================================================\n",
      "\n",
      "Warnings:\n",
      "[1] Standard Errors assume that the covariance matrix of the errors is correctly specified.\n",
      "[2] The smallest eigenvalue is 6.7e-18. This might indicate that there are\n",
      "strong multicollinearity problems or that the design matrix is singular.\n"
     ]
    }
   ],
   "source": [
    "import statsmodels.api as sm\n",
    "\n",
    "model = sm.OLS(y_train, X_train)\n",
    "results = model.fit()\n",
    "print(results.summary())"
   ]
  },
  {
   "cell_type": "markdown",
   "metadata": {},
   "source": [
    "# Baseline"
   ]
  },
  {
   "cell_type": "code",
   "execution_count": 62,
   "metadata": {
    "collapsed": false
   },
   "outputs": [
    {
     "name": "stdout",
     "output_type": "stream",
     "text": [
      "R^2 : -3.8124522478882046e+29\n",
      "Meansquared error: 19.24796500083821 \n"
     ]
    }
   ],
   "source": [
    "base_line = [np.mean(y)]*len(y_test)\n",
    "print('R^2 : {}'.format(r2_score(base_line, y_test)))\n",
    "print('Meansquared error: {} '.format(mean_squared_error(base_line, y_test)))"
   ]
  },
  {
   "cell_type": "markdown",
   "metadata": {},
   "source": [
    "# Ada"
   ]
  },
  {
   "cell_type": "code",
   "execution_count": 77,
   "metadata": {
    "collapsed": false
   },
   "outputs": [
    {
     "data": {
      "text/plain": [
       "AdaBoostRegressor(base_estimator=DecisionTreeRegressor(criterion='mse', max_depth=2, max_features=None,\n",
       "           max_leaf_nodes=None, min_samples_leaf=1, min_samples_split=2,\n",
       "           min_weight_fraction_leaf=0.0, presort=False, random_state=None,\n",
       "           splitter='best'),\n",
       "         learning_rate=1.0, loss='linear', n_estimators=300,\n",
       "         random_state=0)"
      ]
     },
     "execution_count": 77,
     "metadata": {},
     "output_type": "execute_result"
    }
   ],
   "source": [
    "from sklearn.tree import DecisionTreeRegressor\n",
    "from sklearn.ensemble import AdaBoostRegressor\n",
    "\n",
    "ada = AdaBoostRegressor(DecisionTreeRegressor(max_depth=2),\n",
    "                          n_estimators=300, random_state=0)\n",
    "\n",
    "ada.fit(X_train, y_train)"
   ]
  },
  {
   "cell_type": "code",
   "execution_count": 78,
   "metadata": {
    "collapsed": false
   },
   "outputs": [
    {
     "data": {
      "text/plain": [
       "0.23232151180906613"
      ]
     },
     "execution_count": 78,
     "metadata": {},
     "output_type": "execute_result"
    }
   ],
   "source": [
    "ada.score(X_test, y_test)"
   ]
  },
  {
   "cell_type": "code",
   "execution_count": 79,
   "metadata": {
    "collapsed": false
   },
   "outputs": [
    {
     "name": "stdout",
     "output_type": "stream",
     "text": [
      "Feature Importances\n"
     ]
    },
    {
     "data": {
      "text/html": [
       "<div>\n",
       "<table border=\"1\" class=\"dataframe\">\n",
       "  <thead>\n",
       "    <tr style=\"text-align: right;\">\n",
       "      <th></th>\n",
       "      <th>0</th>\n",
       "    </tr>\n",
       "  </thead>\n",
       "  <tbody>\n",
       "    <tr>\n",
       "      <th>funded_amnt_inv</th>\n",
       "      <td>0.000000</td>\n",
       "    </tr>\n",
       "    <tr>\n",
       "      <th>emp_length_n/a</th>\n",
       "      <td>0.000000</td>\n",
       "    </tr>\n",
       "    <tr>\n",
       "      <th>purpose_wedding</th>\n",
       "      <td>0.000000</td>\n",
       "    </tr>\n",
       "    <tr>\n",
       "      <th>emp_length_7 years</th>\n",
       "      <td>0.000000</td>\n",
       "    </tr>\n",
       "    <tr>\n",
       "      <th>purpose_house</th>\n",
       "      <td>0.000000</td>\n",
       "    </tr>\n",
       "    <tr>\n",
       "      <th>purpose_medical</th>\n",
       "      <td>0.000000</td>\n",
       "    </tr>\n",
       "    <tr>\n",
       "      <th>verification_status_Verified</th>\n",
       "      <td>0.071393</td>\n",
       "    </tr>\n",
       "    <tr>\n",
       "      <th>application_type_JOINT</th>\n",
       "      <td>0.000000</td>\n",
       "    </tr>\n",
       "    <tr>\n",
       "      <th>revol_bal</th>\n",
       "      <td>0.023052</td>\n",
       "    </tr>\n",
       "    <tr>\n",
       "      <th>purpose_other</th>\n",
       "      <td>0.014412</td>\n",
       "    </tr>\n",
       "    <tr>\n",
       "      <th>application_type_INDIVIDUAL</th>\n",
       "      <td>0.000000</td>\n",
       "    </tr>\n",
       "    <tr>\n",
       "      <th>emp_length_9 years</th>\n",
       "      <td>0.000000</td>\n",
       "    </tr>\n",
       "    <tr>\n",
       "      <th>purpose_car</th>\n",
       "      <td>0.000000</td>\n",
       "    </tr>\n",
       "    <tr>\n",
       "      <th>emp_length_6 years</th>\n",
       "      <td>0.000000</td>\n",
       "    </tr>\n",
       "    <tr>\n",
       "      <th>emp_length_5 years</th>\n",
       "      <td>0.000000</td>\n",
       "    </tr>\n",
       "    <tr>\n",
       "      <th>installment</th>\n",
       "      <td>0.076559</td>\n",
       "    </tr>\n",
       "    <tr>\n",
       "      <th>initial_list_status_w</th>\n",
       "      <td>0.000000</td>\n",
       "    </tr>\n",
       "    <tr>\n",
       "      <th>purpose_home_improvement</th>\n",
       "      <td>0.000000</td>\n",
       "    </tr>\n",
       "    <tr>\n",
       "      <th>initial_list_status_f</th>\n",
       "      <td>0.037111</td>\n",
       "    </tr>\n",
       "    <tr>\n",
       "      <th>loan_amnt</th>\n",
       "      <td>0.043715</td>\n",
       "    </tr>\n",
       "    <tr>\n",
       "      <th>emp_length_3 years</th>\n",
       "      <td>0.000000</td>\n",
       "    </tr>\n",
       "    <tr>\n",
       "      <th>dti</th>\n",
       "      <td>0.019227</td>\n",
       "    </tr>\n",
       "    <tr>\n",
       "      <th>verification_status_Not Verified</th>\n",
       "      <td>0.060669</td>\n",
       "    </tr>\n",
       "    <tr>\n",
       "      <th>term_ 60 months</th>\n",
       "      <td>0.550924</td>\n",
       "    </tr>\n",
       "    <tr>\n",
       "      <th>funded_amnt</th>\n",
       "      <td>0.000000</td>\n",
       "    </tr>\n",
       "    <tr>\n",
       "      <th>emp_length_4 years</th>\n",
       "      <td>0.000000</td>\n",
       "    </tr>\n",
       "    <tr>\n",
       "      <th>verification_status_Source Verified</th>\n",
       "      <td>0.000000</td>\n",
       "    </tr>\n",
       "    <tr>\n",
       "      <th>purpose_moving</th>\n",
       "      <td>0.000000</td>\n",
       "    </tr>\n",
       "    <tr>\n",
       "      <th>pymnt_plan_n</th>\n",
       "      <td>0.000000</td>\n",
       "    </tr>\n",
       "    <tr>\n",
       "      <th>purpose_educational</th>\n",
       "      <td>0.000000</td>\n",
       "    </tr>\n",
       "    <tr>\n",
       "      <th>term_ 36 months</th>\n",
       "      <td>0.000000</td>\n",
       "    </tr>\n",
       "    <tr>\n",
       "      <th>emp_length_&lt; 1 year</th>\n",
       "      <td>0.000000</td>\n",
       "    </tr>\n",
       "    <tr>\n",
       "      <th>purpose_renewable_energy</th>\n",
       "      <td>0.000000</td>\n",
       "    </tr>\n",
       "    <tr>\n",
       "      <th>purpose_small_business</th>\n",
       "      <td>0.009503</td>\n",
       "    </tr>\n",
       "    <tr>\n",
       "      <th>purpose_major_purchase</th>\n",
       "      <td>0.000000</td>\n",
       "    </tr>\n",
       "    <tr>\n",
       "      <th>purpose_vacation</th>\n",
       "      <td>0.000000</td>\n",
       "    </tr>\n",
       "    <tr>\n",
       "      <th>emp_length_2 years</th>\n",
       "      <td>0.000000</td>\n",
       "    </tr>\n",
       "    <tr>\n",
       "      <th>pymnt_plan_y</th>\n",
       "      <td>0.000000</td>\n",
       "    </tr>\n",
       "    <tr>\n",
       "      <th>purpose_credit_card</th>\n",
       "      <td>0.093433</td>\n",
       "    </tr>\n",
       "    <tr>\n",
       "      <th>emp_length_1 year</th>\n",
       "      <td>0.000000</td>\n",
       "    </tr>\n",
       "    <tr>\n",
       "      <th>emp_length_8 years</th>\n",
       "      <td>0.000000</td>\n",
       "    </tr>\n",
       "    <tr>\n",
       "      <th>emp_length_10+ years</th>\n",
       "      <td>0.000000</td>\n",
       "    </tr>\n",
       "    <tr>\n",
       "      <th>purpose_debt_consolidation</th>\n",
       "      <td>0.000000</td>\n",
       "    </tr>\n",
       "  </tbody>\n",
       "</table>\n",
       "</div>"
      ],
      "text/plain": [
       "                                            0\n",
       "funded_amnt_inv                      0.000000\n",
       "emp_length_n/a                       0.000000\n",
       "purpose_wedding                      0.000000\n",
       "emp_length_7 years                   0.000000\n",
       "purpose_house                        0.000000\n",
       "purpose_medical                      0.000000\n",
       "verification_status_Verified         0.071393\n",
       "application_type_JOINT               0.000000\n",
       "revol_bal                            0.023052\n",
       "purpose_other                        0.014412\n",
       "application_type_INDIVIDUAL          0.000000\n",
       "emp_length_9 years                   0.000000\n",
       "purpose_car                          0.000000\n",
       "emp_length_6 years                   0.000000\n",
       "emp_length_5 years                   0.000000\n",
       "installment                          0.076559\n",
       "initial_list_status_w                0.000000\n",
       "purpose_home_improvement             0.000000\n",
       "initial_list_status_f                0.037111\n",
       "loan_amnt                            0.043715\n",
       "emp_length_3 years                   0.000000\n",
       "dti                                  0.019227\n",
       "verification_status_Not Verified     0.060669\n",
       "term_ 60 months                      0.550924\n",
       "funded_amnt                          0.000000\n",
       "emp_length_4 years                   0.000000\n",
       "verification_status_Source Verified  0.000000\n",
       "purpose_moving                       0.000000\n",
       "pymnt_plan_n                         0.000000\n",
       "purpose_educational                  0.000000\n",
       "term_ 36 months                      0.000000\n",
       "emp_length_< 1 year                  0.000000\n",
       "purpose_renewable_energy             0.000000\n",
       "purpose_small_business               0.009503\n",
       "purpose_major_purchase               0.000000\n",
       "purpose_vacation                     0.000000\n",
       "emp_length_2 years                   0.000000\n",
       "pymnt_plan_y                         0.000000\n",
       "purpose_credit_card                  0.093433\n",
       "emp_length_1 year                    0.000000\n",
       "emp_length_8 years                   0.000000\n",
       "emp_length_10+ years                 0.000000\n",
       "purpose_debt_consolidation           0.000000"
      ]
     },
     "execution_count": 79,
     "metadata": {},
     "output_type": "execute_result"
    }
   ],
   "source": [
    "print('Feature Importances')\n",
    "pd.DataFrame.from_dict(dict(zip(data.columns, ada.feature_importances_)), orient='index')"
   ]
  },
  {
   "cell_type": "code",
   "execution_count": null,
   "metadata": {
    "collapsed": true
   },
   "outputs": [],
   "source": []
  }
 ],
 "metadata": {
  "kernelspec": {
   "display_name": "Python 2",
   "language": "python",
   "name": "python2"
  },
  "language_info": {
   "codemirror_mode": {
    "name": "ipython",
    "version": 2
   },
   "file_extension": ".py",
   "mimetype": "text/x-python",
   "name": "python",
   "nbconvert_exporter": "python",
   "pygments_lexer": "ipython2",
   "version": "2.7.10"
  },
  "widgets": {
   "state": {},
   "version": "1.0.0"
  }
 },
 "nbformat": 4,
 "nbformat_minor": 0
}
